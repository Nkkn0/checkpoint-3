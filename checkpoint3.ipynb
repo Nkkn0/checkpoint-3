{
 "cells": [
  {
   "cell_type": "code",
   "execution_count": 1,
   "id": "d1e77480",
   "metadata": {},
   "outputs": [
    {
     "name": "stdout",
     "output_type": "stream",
     "text": [
      "Your name and last name : Python\n",
      "nohtyP\n"
     ]
    }
   ],
   "source": [
    "name_lname = input (\"Your name and last name : \")\n",
    "print(name_lname[-1::-1])"
   ]
  },
  {
   "cell_type": "code",
   "execution_count": 53,
   "id": "0c07fd10",
   "metadata": {},
   "outputs": [
    {
     "name": "stdout",
     "output_type": "stream",
     "text": [
      "this 9\n"
     ]
    },
    {
     "ename": "NameError",
     "evalue": "name 'np' is not defined",
     "output_type": "error",
     "traceback": [
      "\u001b[1;31m---------------------------------------------------------------------------\u001b[0m",
      "\u001b[1;31mNameError\u001b[0m                                 Traceback (most recent call last)",
      "Input \u001b[1;32mIn [53]\u001b[0m, in \u001b[0;36m<cell line: 7>\u001b[1;34m()\u001b[0m\n\u001b[0;32m      5\u001b[0m \u001b[38;5;28;01mfor\u001b[39;00m i \u001b[38;5;129;01min\u001b[39;00m \u001b[38;5;28mrange\u001b[39m(\u001b[38;5;241m1\u001b[39m,n\u001b[38;5;241m+\u001b[39m\u001b[38;5;241m1\u001b[39m):\n\u001b[0;32m      6\u001b[0m      li\u001b[38;5;241m.\u001b[39mappend(i)\n\u001b[1;32m----> 7\u001b[0m li2 \u001b[38;5;241m=\u001b[39m \u001b[43mnp\u001b[49m\u001b[38;5;241m.\u001b[39mmultiply(li,li)\n\u001b[0;32m      8\u001b[0m \u001b[38;5;28mprint\u001b[39m(li2)\n",
      "\u001b[1;31mNameError\u001b[0m: name 'np' is not defined"
     ]
    }
   ],
   "source": [
    "n = int(input(\"this\"))\n",
    "li =  [ ]\n",
    "li2 =  [ ]\n",
    "\n",
    "for i in range(1,n+1):\n",
    "     li.append(i)\n",
    "li2 = np.multiply(li,li)\n",
    "print(li2)"
   ]
  },
  {
   "cell_type": "code",
   "execution_count": null,
   "id": "0bba8378",
   "metadata": {},
   "outputs": [],
   "source": [
    "num = int (input (\"Enter a number \"))\n",
    "if (num % 2) == 0:\n",
    "    print (\"This number is even\")\n",
    "else:\n",
    "    print (\"This number is odd\")\n"
   ]
  },
  {
   "cell_type": "code",
   "execution_count": 4,
   "id": "9a832c18",
   "metadata": {},
   "outputs": [
    {
     "name": "stdout",
     "output_type": "stream",
     "text": [
      "2002,2009,2016,2023,2037,2044,2051,2058,2072,2079,2086,2093,2107,2114,2121,2128,2142,2149,2156,2163,2177,2184,2191,2198,2212,2219,2226,2233,2247,2254,2261,2268,2282,2289,2296,2303,2317,2324,2331,2338,2352,2359,2366,2373,2387,2394,2401,2408,2422,2429,2436,2443,2457,2464,2471,2478,2492,2499,2506,2513,2527,2534,2541,2548,2562,2569,2576,2583,2597,2604,2611,2618,2632,2639,2646,2653,2667,2674,2681,2688,2702,2709,2716,2723,2737,2744,2751,2758,2772,2779,2786,2793,2807,2814,2821,2828,2842,2849,2856,2863,2877,2884,2891,2898,2912,2919,2926,2933,2947,2954,2961,2968,2982,2989,2996,3003,3017,3024,3031,3038,3052,3059,3066,3073,3087,3094,3101,3108,3122,3129,3136,3143,3157,3164,3171,3178,3192,3199\n"
     ]
    }
   ],
   "source": [
    "thelist=[]\n",
    "for x in range(2000, 3200):\n",
    "    if (x % 7==0) and (x % 5!=0):\n",
    "        thelist.append(str(x))\n",
    "print (','.join(thelist))"
   ]
  },
  {
   "cell_type": "code",
   "execution_count": 8,
   "id": "6ce3457f",
   "metadata": {},
   "outputs": [
    {
     "name": "stdout",
     "output_type": "stream",
     "text": [
      "Enter your number : 5\n",
      "Factorial number is: 120\n"
     ]
    }
   ],
   "source": [
    "num = int(input(\"Enter your number : \"))\n",
    "fact = 1\n",
    "for i in range (1,num+1):\n",
    "    fact=fact*i\n",
    "print(\"Factorial number is:\" , fact)"
   ]
  },
  {
   "cell_type": "code",
   "execution_count": 11,
   "id": "12d81dd8",
   "metadata": {},
   "outputs": [
    {
     "name": "stdout",
     "output_type": "stream",
     "text": [
      "enter you number5\n",
      "the factorial is  78125\n"
     ]
    }
   ],
   "source": [
    "num = int(input('enter you number'))\n",
    "factorial = 1\n",
    "if num < 0:\n",
    "    print (\"no factorial for negative numbers\")\n",
    "elif num == 0:\n",
    "    print (\"Factorial is : 1\")\n",
    "else :\n",
    "    for i in range (1 + num +1):\n",
    "        factorial = factorial * num\n",
    "    print ('the factorial is ', factorial)"
   ]
  },
  {
   "cell_type": "code",
   "execution_count": 9,
   "id": "9191d6a4",
   "metadata": {},
   "outputs": [
    {
     "name": "stdout",
     "output_type": "stream",
     "text": [
      "Enter your string : hello \n",
      "Final String :      hlo\n"
     ]
    }
   ],
   "source": [
    "str1 = input(\"Enter your string : \")\n",
    "\n",
    "str2 = ''\n",
    "i = 0\n",
    "\n",
    "while(i < len(str1)):\n",
    "    if(i % 2 == 0):\n",
    "        str2 = str2 + str1[i]\n",
    "    i = i + 1\n",
    "        \n",
    "print(\"Final String :     \", str2)"
   ]
  },
  {
   "cell_type": "code",
   "execution_count": 16,
   "id": "527db28d",
   "metadata": {},
   "outputs": [
    {
     "ename": "SyntaxError",
     "evalue": "invalid syntax (276116071.py, line 6)",
     "output_type": "error",
     "traceback": [
      "\u001b[1;36m  Input \u001b[1;32mIn [16]\u001b[1;36m\u001b[0m\n\u001b[1;33m    elif for i in range(199,500):\u001b[0m\n\u001b[1;37m         ^\u001b[0m\n\u001b[1;31mSyntaxError\u001b[0m\u001b[1;31m:\u001b[0m invalid syntax\n"
     ]
    }
   ],
   "source": [
    "amt = int(input(\"Enter the price: \"))\n",
    "\n",
    "if(amt>0):\n",
    "    if amt<=500:\n",
    "        disc = amt*0.05\n",
    "    elif for amt in range(199,500):\n",
    "        disc=amt*0.12\n",
    "    elif amt>=200:\n",
    "        disc=0.2 * amt\n",
    "    else:\n",
    "         disc=0.3 * amt\n",
    "\n",
    "    print(\"Discount : \",disc)\n",
    "    print(\"Price\" : \",amt-disc)\n",
    "else:\n",
    "    print(\"Invalid Amount\")"
   ]
  },
  {
   "cell_type": "code",
   "execution_count": 43,
   "id": "8d60c279",
   "metadata": {},
   "outputs": [
    {
     "name": "stdout",
     "output_type": "stream",
     "text": [
      "Enter the price:199\n",
      "Your final price is 179.1\n"
     ]
    }
   ],
   "source": [
    "price = int(input(\"Enter the price:\"))\n",
    "if(price>=500):\n",
    "    priceFinal = price-((price*50)/100)\n",
    "elif price >= 200 and price <500:\n",
    "    priceFinal = price - ((price*30)/100)\n",
    "else:\n",
    "    priceFinal = price - ((price*10)/100)\n",
    "print (\"Your final price is\",priceFinal)"
   ]
  },
  {
   "cell_type": "code",
   "execution_count": null,
   "id": "c20624b8",
   "metadata": {},
   "outputs": [],
   "source": []
  }
 ],
 "metadata": {
  "kernelspec": {
   "display_name": "Python 3 (ipykernel)",
   "language": "python",
   "name": "python3"
  },
  "language_info": {
   "codemirror_mode": {
    "name": "ipython",
    "version": 3
   },
   "file_extension": ".py",
   "mimetype": "text/x-python",
   "name": "python",
   "nbconvert_exporter": "python",
   "pygments_lexer": "ipython3",
   "version": "3.9.12"
  }
 },
 "nbformat": 4,
 "nbformat_minor": 5
}
